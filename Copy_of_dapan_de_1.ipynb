{
  "nbformat": 4,
  "nbformat_minor": 0,
  "metadata": {
    "kernelspec": {
      "display_name": "Python 3",
      "language": "python",
      "name": "python3"
    },
    "language_info": {
      "codemirror_mode": {
        "name": "ipython",
        "version": 3
      },
      "file_extension": ".py",
      "mimetype": "text/x-python",
      "name": "python",
      "nbconvert_exporter": "python",
      "pygments_lexer": "ipython3",
      "version": "3.7.5"
    },
    "colab": {
      "name": "Copy of dapan_de-1.ipynb",
      "provenance": [],
      "include_colab_link": true
    }
  },
  "cells": [
    {
      "cell_type": "markdown",
      "metadata": {
        "id": "view-in-github",
        "colab_type": "text"
      },
      "source": [
        "<a href=\"https://colab.research.google.com/github/hodacquan99/BML/blob/main/Copy_of_dapan_de_1.ipynb\" target=\"_parent\"><img src=\"https://colab.research.google.com/assets/colab-badge.svg\" alt=\"Open In Colab\"/></a>"
      ]
    },
    {
      "cell_type": "markdown",
      "metadata": {
        "id": "Pfd3_CUMG7Kt"
      },
      "source": [
        "# TKMT - Hỗ trợ chấm đề 1 (Tiên Tiến)"
      ]
    },
    {
      "cell_type": "markdown",
      "metadata": {
        "id": "P8Fpqt8oG1Ah"
      },
      "source": [
        "## MÃ NGUỒN"
      ]
    },
    {
      "cell_type": "code",
      "metadata": {
        "colab": {
          "base_uri": "https://localhost:8080/"
        },
        "id": "U5RgcwVlG1An",
        "outputId": "a0d585f0-a67d-4604-9d6f-c4abc8a7f92f"
      },
      "source": [
        "import numpy as np\n",
        "import math\n",
        "import pandas as pd\n",
        "import scipy.stats as st\n",
        "import statsmodels.api as sm\n",
        "import statsmodels.formula.api as sm\n",
        "import matplotlib.pyplot as plt"
      ],
      "execution_count": null,
      "outputs": [
        {
          "output_type": "stream",
          "text": [
            "/usr/local/lib/python3.7/dist-packages/statsmodels/tools/_testing.py:19: FutureWarning: pandas.util.testing is deprecated. Use the functions in the public API at pandas.testing instead.\n",
            "  import pandas.util.testing as tm\n"
          ],
          "name": "stderr"
        }
      ]
    },
    {
      "cell_type": "code",
      "metadata": {
        "id": "FGb9X-HxG1As"
      },
      "source": [
        "def cau_mot():\n",
        "    print('\\n========================================= CÂU 1 =========================================')\n",
        "    X = np.array([2, 3, 7, 6, 5])\n",
        "    Y = np.array([6, 6, 15, 13, 10])\n",
        "    lm = sm.ols('y~x', data=pd.DataFrame({'x': X, 'y': Y})).fit()\n",
        "    print(f'Hệ số tương quan: {np.corrcoef(X, Y)[0, 1].round(4)}')\n",
        "\n",
        "    print('\\nHệ số mô hình: ')\n",
        "    print(lm.params)\n",
        "    print(f'Phương trình hồi quy: Y = {lm.params[0].round(4)} + {lm.params[1].round(4)}X')\n",
        "    x_min = 2\n",
        "    y_min = lm.params[0] + lm.params[1]*x_min\n",
        "    x_max = 7\n",
        "    y_max = lm.params[0] + lm.params[1]*x_max\n",
        "\n",
        "    print('\\nĐồ thị:')\n",
        "    plt.plot([x_min, x_max], [y_min, y_max])\n",
        "    plt.plot(X, Y, 'ro')\n",
        "    plt.show()\n",
        "\n",
        "def cau_hai(BCS):\n",
        "    print('\\n========================================= CÂU 2 =========================================')\n",
        "    data = np.array([342, 426, 317, 545, 264, 451, 631, 512, 266, 492, 562, 298])\n",
        "    X = BCS\n",
        "    data = np.append(data, X)\n",
        "\n",
        "    n = len(data)\n",
        "    tb = np.mean(data)\n",
        "    dlc = 120\n",
        "    dlc_tb = dlc/math.sqrt(n)\n",
        "    dotincay = 0.9\n",
        "    saiso = st.norm.isf((1-dotincay)/2).round(2) * dlc_tb\n",
        "\n",
        "    print('Dữ liệu: ', data)\n",
        "    print('\\nCâu a: (1 điểm)')\n",
        "    print('\\tKết quả theo thư viện: ', st.norm.interval(dotincay, loc=tb, scale=dlc_tb))\n",
        "    print('\\tKết quả theo công thức: ({0}, {1})'.format((tb-saiso).round(4), (tb+saiso).round(4)))\n",
        "\n",
        "    print('\\nCâu b: (1 điểm)')\n",
        "\n",
        "    print('\\nCâu c: (1 điểm)')\n",
        "\n",
        "    print('\\nCâu d: (1 điểm)')\n",
        "    print('\\tĐộ rộng khoảng ước lượng giảm xuống một nửa')\n",
        "\n",
        "def cau_ba(STT):\n",
        "    print('\\n========================================= CÂU 3 =========================================')\n",
        "    Y = (STT % 5) + 1\n",
        "    ftable = [(12, Y), (13, 2), (15, 7), (16, 7), (17, 3), (18, 2), (19, 1)]\n",
        "    data = sum([[v]*f for v, f in ftable], [])\n",
        "\n",
        "    mu_zero = 15\n",
        "    p = 0.1\n",
        "    alpha_a = 0.05\n",
        "    alpha_b = 0.1\n",
        "\n",
        "    n = len(data)\n",
        "    tb = np.mean(data).round(4)\n",
        "    dlc = np.std(data, ddof=1).round(4)\n",
        "    dlc_tb = dlc/math.sqrt(n)\n",
        "    f = (2+7+7+3) / n\n",
        "    \n",
        "    print('Câu a: ')\n",
        "    print('\\tGiả thuyết:')\n",
        "    print('\\t\\tHo: mu <= 15')\n",
        "    print('\\t\\tHa: mu > 15')\n",
        "    \n",
        "    trikiemdinh = ((tb-mu_zero)/dlc_tb).round(4)\n",
        "    p_value = st.t.sf(trikiemdinh, n-1).round(4)\n",
        "   \n",
        "    print(f'\\n\\tn = {n}, tb =  {tb}, s = {dlc}')\n",
        "    print(f'\\n\\tTrị kiểm định: t = {trikiemdinh}, t_alpha = {st.t.isf(alpha_a, n-1).round(4)}' )\n",
        "    print(f'\\n\\tp_value = {p_value}, alpha = {alpha_a}')\n",
        "    \n",
        "    \n",
        "    print('\\nCâu b: ')    \n",
        "    print('\\tGiả thuyết:')\n",
        "    print('\\t\\tHo: p = 0.5')\n",
        "    print('\\t\\tHa: p <> 0.5')\n",
        "    \n",
        "    dlc_tyle = math.sqrt((p*(1-p)) / n)\n",
        "    trikiemdinh_z = round((f-0.5)/dlc_tyle, 4)\n",
        "    p_value_tyle = (st.norm.sf(trikiemdinh_z).round(4) * 2)\n",
        "    \n",
        "    print(f'\\n\\tn = {n}, f =  {round(f, 4)}')\n",
        "    print(f'\\n\\tTrị kiểm định: z = {trikiemdinh_z}, z_alpha_chia_2 = {st.norm.isf(alpha_b/2).round(4)}' )\n",
        "    print(f'\\n\\tp_value = {p_value_tyle}, alpha = {alpha_a}')\n",
        "\n",
        "def dap_an(STT, BCS):\n",
        "    print(f'\\nSTT: {STT}, Ba chữ số: {BCS}')\n",
        "    \n",
        "    cau_mot()\n",
        "    cau_hai(BCS)\n",
        "    cau_ba(STT)"
      ],
      "execution_count": null,
      "outputs": []
    },
    {
      "cell_type": "markdown",
      "metadata": {
        "id": "lBbotcyHG1Ay"
      },
      "source": [
        "## ĐÁP ÁN"
      ]
    },
    {
      "cell_type": "code",
      "metadata": {
        "colab": {
          "base_uri": "https://localhost:8080/",
          "height": 1000
        },
        "id": "YqrPXSMnG1A0",
        "outputId": "e4c36faf-343b-42cc-df97-bf7ba6f4ec3f"
      },
      "source": [
        "# Thay đổi tham số tương ứng với từng sinh viên (Số thứ tụ-STT, Ba chữ số áp cuối-BCS)\n",
        "STT, BCS = 1, 298\n",
        "\n",
        "dap_an(STT, BCS)"
      ],
      "execution_count": null,
      "outputs": [
        {
          "output_type": "stream",
          "text": [
            "\n",
            "STT: 1, Ba chữ số: 298\n",
            "\n",
            "========================================= CÂU 1 =========================================\n",
            "Hệ số tương quan: 0.9794\n",
            "\n",
            "Hệ số mô hình: \n",
            "Intercept    1.174419\n",
            "x            1.918605\n",
            "dtype: float64\n",
            "Phương trình hồi quy: Y = 1.1744 + 1.9186X\n",
            "\n",
            "Đồ thị:\n"
          ],
          "name": "stdout"
        },
        {
          "output_type": "display_data",
          "data": {
            "image/png": "[encoded data removed]",
            "text/plain": [
              "<Figure size 432x288 with 1 Axes>"
            ]
          },
          "metadata": {
            "tags": [],
            "needs_background": "light"
          }
        },
        {
          "output_type": "stream",
          "text": [
            "\n",
            "========================================= CÂU 2 =========================================\n",
            "Dữ liệu:  [342 426 317 545 264 451 631 512 266 492 562 298 298]\n",
            "\n",
            "Câu a: (1 điểm)\n",
            "\tKết quả theo thư viện:  (360.948269914402, 470.4363454702134)\n",
            "\tKết quả theo công thức: (361.1098, 470.2748)\n",
            "\n",
            "Câu b: (1 điểm)\n",
            "\n",
            "Câu c: (1 điểm)\n",
            "\n",
            "Câu d: (1 điểm)\n",
            "\tĐộ rộng khoảng ước lượng giảm xuống một nửa\n",
            "\n",
            "========================================= CÂU 3 =========================================\n",
            "Câu a: \n",
            "\tGiả thuyết:\n",
            "\t\tHo: mu <= 15\n",
            "\t\tHa: mu > 15\n",
            "\n",
            "\tn = 24, tb =  15.5417, s = 1.7688\n",
            "\n",
            "\tTrị kiểm định: t = 1.5003, t_alpha = 1.7139\n",
            "\n",
            "\tp_value = 0.0736, alpha = 0.05\n",
            "\n",
            "Câu b: \n",
            "\tGiả thuyết:\n",
            "\t\tHo: p = 0.5\n",
            "\t\tHa: p <> 0.5\n",
            "\n",
            "\tn = 24, f =  0.7917\n",
            "\n",
            "\tTrị kiểm định: z = 4.7629, z_alpha_chia_2 = 1.6449\n",
            "\n",
            "\tp_value = 0.0, alpha = 0.05\n"
          ],
          "name": "stdout"
        }
      ]
    }
  ]
}
{
  "nbformat": 4,
  "nbformat_minor": 0,
  "metadata": {
    "kernelspec": {
      "display_name": "Python 3",
      "language": "python",
      "name": "python3"
    },
    "language_info": {
      "codemirror_mode": {
        "name": "ipython",
        "version": 3
      },
      "file_extension": ".py",
      "mimetype": "text/x-python",
      "name": "python",
      "nbconvert_exporter": "python",
      "pygments_lexer": "ipython3",
      "version": "3.7.5"
    },
    "colab": {
      "name": "dapan_de-2.ipynb",
      "provenance": [],
      "include_colab_link": true
    }
  },
  "cells": [
    {
      "cell_type": "markdown",
      "metadata": {
        "id": "view-in-github",
        "colab_type": "text"
      },
      "source": [
        "<a href=\"https://colab.research.google.com/github/hodacquan99/BML/blob/main/dapan_de_2.ipynb\" target=\"_parent\"><img src=\"https://colab.research.google.com/assets/colab-badge.svg\" alt=\"Open In Colab\"/></a>"
      ]
    },
    {
      "cell_type": "markdown",
      "metadata": {
        "id": "KWnscPmjmeUv"
      },
      "source": [
        "## MÃ NGUỒN"
      ]
    },
    {
      "cell_type": "code",
      "metadata": {
        "id": "SA-g20wWmeUx"
      },
      "source": [
        "import numpy as np\n",
        "import math\n",
        "import pandas as pd\n",
        "import scipy.stats as st\n",
        "import statsmodels.api as sm\n",
        "import statsmodels.formula.api as sm\n",
        "import matplotlib.pyplot as plt"
      ],
      "execution_count": null,
      "outputs": []
    },
    {
      "cell_type": "code",
      "metadata": {
        "id": "bNsDSIyrmeUy"
      },
      "source": [
        "def cau_mot():\n",
        "    print('\\n========================================= CÂU 1 =========================================')\n",
        "    X = np.array([6, 7, 9, 9, 7, 8, 6, 12])\n",
        "    Y = np.array([45, 80, 70, 85, 60, 55, 75, 90])\n",
        "    lm = sm.ols('y~x', data=pd.DataFrame({'x': X, 'y': Y})).fit()\n",
        "    print(f'Hệ số tương quan: {np.corrcoef(X, Y)[0, 1].round(4)}')\n",
        "\n",
        "    print('\\nHệ số mô hình: ')\n",
        "    print(lm.params)\n",
        "    print(f'Phương trình hồi quy: Y = {lm.params[0].round(4)} + {lm.params[1].round(4)}X')\n",
        "    x_min = 6\n",
        "    y_min = lm.params[0] + lm.params[1]*x_min\n",
        "    x_max = 12\n",
        "    y_max = lm.params[0] + lm.params[1]*x_max\n",
        "\n",
        "    print('\\nĐồ thị:')\n",
        "    plt.plot([x_min, x_max], [y_min, y_max])\n",
        "    plt.plot(X, Y, 'ro')\n",
        "    plt.show()\n",
        "\n",
        "def cau_hai(STT):\n",
        "    print('\\n========================================= CÂU 2 =========================================')\n",
        "    Y = (STT % 10) + 10\n",
        "    ftable = [(205, Y), (215, 17), (225, 20), (235, 18), (245, 15)]\n",
        "    data = sum([[v]*f for v, f in ftable], [])\n",
        "    \n",
        "    n = len(data)\n",
        "    tb = np.mean(data).round(4)\n",
        "    dlc = np.std(data, ddof=1).round(4)\n",
        "    dlc_tb = dlc/math.sqrt(n)\n",
        "    saiso_tb = round(st.t.isf((1-0.95)/2, n-1) * dlc_tb, 4)\n",
        "    \n",
        "    f = (18 + 15) / n\n",
        "    dlc_tyle = math.sqrt((f*(1-f)) / n)    \n",
        "    saiso_tyle = round(st.norm.isf((1 - 0.9)/2).round(2) * dlc_tyle, 4)\n",
        "\n",
        "    print(f'Y = {Y}')\n",
        "    print('Dữ liệu: ', data)\n",
        "    print(f'\\nn = {n}, f={round(f, 4)}, tb = {tb}, dlc={dlc}')\n",
        "    \n",
        "    print('\\nCâu a: (1 điểm)')    \n",
        "    print('\\tKết quả theo thư viện: ', st.norm.interval(0.9, loc=f, scale=dlc_tyle))\n",
        "    print('\\tSai số = ', saiso_tyle)\n",
        "    print('\\tKết quả theo công thức: ({0}, {1})'.format((f-saiso_tyle).round(4), (f+saiso_tyle).round(4)))\n",
        "\n",
        "    print('\\nCâu b: (1 điểm)')\n",
        "    print('\\tKết quả theo hàm pp Chuẩn:   ', st.norm.interval(0.95, loc=tb, scale=dlc_tb))\n",
        "    print('\\tKết quả theo hàm pp Student: ', st.t.interval(0.95, n-1, loc=tb, scale=dlc_tb))\n",
        "    print('\\tSai số = ', saiso_tb)\n",
        "    print('\\tKết quả theo công thức: ({0}, {1})'.format((tb-saiso_tb).round(4), (tb+saiso_tb).round(4)))\n",
        "    \n",
        "    print('\\nCâu c: (1 điểm)')\n",
        "\n",
        "    print('\\nCâu d: (1 điểm)')\n",
        "    print('\\tĐộ rộng khoảng ước lượng giảm xuống một nửa')\n",
        "    \n",
        "def cau_ba(STT):\n",
        "    print('\\n========================================= CÂU 3 =========================================')\n",
        "    M = (STT % 10) + 65    \n",
        "    data = np.array([65,74, 69, 68, 68, 72, 72, 73, 71, 75, 74, 68, 67, 69, 67, 68, 67, 70, 68, 68, 68, 71, 67, 70, 69, 69, 69, 67, 72, 66, 67, M])\n",
        "\n",
        "    mu_zero = 70\n",
        "    p = 0.1\n",
        "    alpha_a = 0.05\n",
        "    alpha_b = 0.1\n",
        "    \n",
        "    n = len(data)\n",
        "    tb = np.mean(data).round(4)\n",
        "    dlc = 2.5\n",
        "    dlc_tb = dlc/math.sqrt(n)\n",
        "    f = (data > 72).sum() / n\n",
        "    \n",
        "    print('Câu a: ')\n",
        "    print('\\tGiả thuyết:')\n",
        "    print('\\t\\tHo: mu >= 70')\n",
        "    print('\\t\\tHa: mu < 70')\n",
        "    \n",
        "    trikiemdinh = ((tb-mu_zero)/dlc_tb).round(4)\n",
        "    p_value = st.norm.cdf(trikiemdinh).round(4)\n",
        "   \n",
        "    print(f'\\n\\tn = {n}, tb =  {tb}, sigma = {dlc}')\n",
        "    print(f'\\n\\tTrị kiểm định: t = {trikiemdinh}, z_alpha = {-st.norm.isf(alpha_a).round(4)}' )\n",
        "    print(f'\\n\\tp_value = {p_value}, alpha = {alpha_a}')\n",
        "    \n",
        "    \n",
        "    print('\\nCâu b: ')    \n",
        "    print('\\tGiả thuyết:')\n",
        "    print('\\t\\tHo: p = 0.5')\n",
        "    print('\\t\\tHa: p <> 0.5')\n",
        "    \n",
        "    dlc_tyle = math.sqrt((p*(1-p)) / n)\n",
        "    trikiemdinh_z = round((f-p)/dlc_tyle, 4)\n",
        "    p_value_tyle = (st.norm.sf(abs(trikiemdinh_z)).round(4) * 2)\n",
        "    \n",
        "    print(f'\\n\\tn = {n}, f =  {round(f, 4)}')\n",
        "    print(f'\\n\\tTrị kiểm định: z = {trikiemdinh_z}, z_alpha_chia_2 = {st.norm.isf(alpha_b/2).round(4)}' )\n",
        "    print(f'\\n\\tp_value = {p_value_tyle}, alpha = {alpha_a}')\n",
        "\n",
        "def dap_an(STT):\n",
        "    print(f'\\nSTT: {STT}')\n",
        "    \n",
        "    cau_mot()\n",
        "    cau_hai(STT)\n",
        "    cau_ba(STT)"
      ],
      "execution_count": null,
      "outputs": []
    },
    {
      "cell_type": "markdown",
      "metadata": {
        "id": "mTSJ6rTcmeU0"
      },
      "source": [
        "## ĐÁP ÁN"
      ]
    },
    {
      "cell_type": "code",
      "metadata": {
        "id": "GyxtKoYemeU0",
        "outputId": "f5513bce-c2a0-4237-a1fe-520f7ad435d6"
      },
      "source": [
        "# Thay đổi tham số tương ứng với từng sinh viên (Số thứ tụ-STT, Ba chữ số áp cuối-BCS)\n",
        "STT = 2\n",
        "\n",
        "dap_an(STT)"
      ],
      "execution_count": null,
      "outputs": [
        {
          "output_type": "stream",
          "text": [
            "\n",
            "STT: 2\n",
            "\n",
            "========================================= CÂU 1 =========================================\n",
            "Hệ số tương quan: 0.6188\n",
            "\n",
            "Hệ số mô hình: \n",
            "Intercept    31.428571\n",
            "x             4.821429\n",
            "dtype: float64\n",
            "Phương trình hồi quy: Y = 31.4286 + 4.8214X\n",
            "\n",
            "Đồ thị:\n"
          ],
          "name": "stdout"
        },
        {
          "output_type": "display_data",
          "data": {
            "image/png": "[encoded data removed]",
            "text/plain": [
              "<Figure size 432x288 with 1 Axes>"
            ]
          },
          "metadata": {
            "tags": [],
            "needs_background": "light"
          }
        },
        {
          "output_type": "stream",
          "text": [
            "\n",
            "========================================= CÂU 2 =========================================\n",
            "Y = 12\n",
            "Dữ liệu:  [205, 205, 205, 205, 205, 205, 205, 205, 205, 205, 205, 205, 215, 215, 215, 215, 215, 215, 215, 215, 215, 215, 215, 215, 215, 215, 215, 215, 215, 225, 225, 225, 225, 225, 225, 225, 225, 225, 225, 225, 225, 225, 225, 225, 225, 225, 225, 225, 225, 235, 235, 235, 235, 235, 235, 235, 235, 235, 235, 235, 235, 235, 235, 235, 235, 235, 235, 245, 245, 245, 245, 245, 245, 245, 245, 245, 245, 245, 245, 245, 245, 245]\n",
            "\n",
            "n = 82, f=0.4024, tb = 225.8537, dlc=13.2592\n",
            "\n",
            "Câu a: (1 điểm)\n",
            "\tKết quả theo thư viện:  (0.31336286408602465, 0.49151518469446315)\n",
            "\tSai số =  0.0888\n",
            "\tKết quả theo công thức: (0.3136, 0.4912)\n",
            "\n",
            "Câu b: (1 điểm)\n",
            "\tKết quả theo hàm pp Chuẩn:    (222.9838547016079, 228.7235452983921)\n",
            "\tKết quả theo hàm pp Student:  (222.9403342519155, 228.76706574808452)\n",
            "\tSai số =  2.9134\n",
            "\tKết quả theo công thức: (222.9403, 228.7671)\n",
            "\n",
            "Câu c: (1 điểm)\n",
            "\n",
            "Câu d: (1 điểm)\n",
            "\tĐộ rộng khoảng ước lượng giảm xuống một nửa\n",
            "\n",
            "========================================= CÂU 3 =========================================\n",
            "Câu a: \n",
            "\tGiả thuyết:\n",
            "\t\tHo: mu >= 70\n",
            "\t\tHa: mu < 70\n",
            "\n",
            "\tn = 32, tb =  69.2188, sigma = 2.5\n",
            "\n",
            "\tTrị kiểm định: t = -1.7677, z_alpha = -1.6449\n",
            "\n",
            "\tp_value = 0.0386, alpha = 0.05\n",
            "\n",
            "Câu b: \n",
            "\tGiả thuyết:\n",
            "\t\tHo: p = 0.5\n",
            "\t\tHa: p <> 0.5\n",
            "\n",
            "\tn = 32, f =  0.125\n",
            "\n",
            "\tTrị kiểm định: z = 0.4714, z_alpha_chia_2 = 1.6449\n",
            "\n",
            "\tp_value = 0.6374, alpha = 0.05\n"
          ],
          "name": "stdout"
        }
      ]
    }
  ]
}